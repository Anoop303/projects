{
 "cells": [
  {
   "cell_type": "code",
   "execution_count": 1,
   "id": "b3050f7f-422c-455e-a445-299dcc185ff2",
   "metadata": {},
   "outputs": [],
   "source": [
    "import numpy as np"
   ]
  },
  {
   "cell_type": "code",
   "execution_count": 4,
   "id": "62888f8f-ee68-40f9-a3ce-198784fb7eb5",
   "metadata": {},
   "outputs": [],
   "source": [
    "gravity_acceleration = 9.81"
   ]
  },
  {
   "cell_type": "code",
   "execution_count": 17,
   "id": "220afb68-c4ba-44f0-8048-f8b4a3d3152a",
   "metadata": {},
   "outputs": [
    {
     "name": "stdout",
     "output_type": "stream",
     "text": [
      "Shape of time array: (101,)\n",
      "Dtype of the time array: int32\n",
      "Shape of altitude array: (101,)\n",
      "Dtype of the altitude array: float64\n",
      "Shape of velocity array: (101,)\n",
      "Dtype of the velocity array: float64\n",
      "Shape of acceleration array: (101,)\n",
      "Dtype of the acceleration array: float64\n"
     ]
    }
   ],
   "source": [
    "time = np.arange(0,101,1)\n",
    "time.shape\n",
    "altitude= np.zeros(time.shape)\n",
    "altitude += 100*time\n",
    "velocity =gravity_acceleration*time\n",
    "acceleration = np.full(time.shape,gravity_acceleration)\n",
    "\n",
    "print(\"Shape of time array:\",time.shape)\n",
    "print(\"Dtype of the time array:\",time.dtype)\n",
    "\n",
    "print(\"Shape of altitude array:\",altitude.shape)\n",
    "print(\"Dtype of the altitude array:\",altitude.dtype)\n",
    "\n",
    "print(\"Shape of velocity array:\",velocity.shape)\n",
    "print(\"Dtype of the velocity array:\",velocity.dtype)\n",
    "\n",
    "print(\"Shape of acceleration array:\",acceleration.shape)\n",
    "print(\"Dtype of the acceleration array:\",acceleration.dtype)"
   ]
  },
  {
   "cell_type": "code",
   "execution_count": null,
   "id": "712424b7-38e2-45cb-b4a9-040810041f38",
   "metadata": {},
   "outputs": [],
   "source": []
  },
  {
   "cell_type": "code",
   "execution_count": null,
   "id": "17a85940-5342-4249-8a0b-aaab00d0a8cf",
   "metadata": {},
   "outputs": [],
   "source": []
  }
 ],
 "metadata": {
  "kernelspec": {
   "display_name": "Python 3 (ipykernel)",
   "language": "python",
   "name": "python3"
  },
  "language_info": {
   "codemirror_mode": {
    "name": "ipython",
    "version": 3
   },
   "file_extension": ".py",
   "mimetype": "text/x-python",
   "name": "python",
   "nbconvert_exporter": "python",
   "pygments_lexer": "ipython3",
   "version": "3.8.0"
  }
 },
 "nbformat": 4,
 "nbformat_minor": 5
}
